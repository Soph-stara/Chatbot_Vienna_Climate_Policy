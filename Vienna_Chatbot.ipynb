{
 "cells": [
  {
   "attachments": {},
   "cell_type": "markdown",
   "id": "0cef0338-cdfb-423a-8a7f-9684d2a848ca",
   "metadata": {},
   "source": [
    "# A Chatbot for the Climate Policy of Vienna #\n",
    "With this Capstone Project, I have build a Large Language Model out of the key climate policy documents of Vienna since the Introduction of the Climate Protection Policy in 1999.\n",
    "The Climate Protection Policies 1 and 2 (KliP 1 & 2 - short for Klimaschutzprogramme, you can find more information here: https://www.wien.gv.at/umwelt/programm-klip) were introduced in 1999 and ran until 2021. \n",
    "In 2020, the coalition government (ÖVP & the Green Party) announced the commitment to achieving climate neutrality by 2040 and shortly after this, in 2022, the Vienna Climate Roadmap (https://www.wien.gv.at/spezial/klimafahrplan/) was introduced. \n",
    "With these 4 documents, spanning approximately 700 pages, a Chatbot was created. "
   ]
  },
  {
   "cell_type": "code",
   "execution_count": 35,
   "id": "81e90566-1e5c-4370-bb04-e1bc7995db67",
   "metadata": {
    "tags": []
   },
   "outputs": [],
   "source": [
    "import os\n",
    "import openai\n",
    "import shutil\n",
    "import warnings\n",
    "import pandas as pd\n",
    "\n",
    "from llama_index.core import (\n",
    "    SimpleDirectoryReader, ListIndex, VectorStoreIndex, TreeIndex,\n",
    "    KeywordTableIndex, SimpleKeywordTableIndex, DocumentSummaryIndex,\n",
    "    KnowledgeGraphIndex, StorageContext, load_index_from_storage\n",
    ")\n",
    "from llama_index.embeddings.openai import OpenAIEmbedding\n",
    "from llama_index.llms.openai import OpenAI\n",
    "from llama_index.core.prompts import ChatPromptTemplate, ChatMessage, MessageRole\n",
    "from llama_index.core.response_synthesizers import ResponseMode"
   ]
  },
  {
   "cell_type": "code",
   "execution_count": 36,
   "id": "d67b4cc1-412d-45b0-beae-bd1e75f3875a",
   "metadata": {
    "tags": []
   },
   "outputs": [],
   "source": [
    "openai.api_key = os.environ[\"OPENAI_API_KEY\"]\n",
    "# Suppressing warnings\n",
    "warnings.filterwarnings('ignore')\n",
    "embed_model = OpenAIEmbedding(model=\"text-embedding-ada-002\")\n",
    "llm = OpenAI(temperature=0, model=\"gpt-3.5-turbo\", presence_penalty=-2, top_p=1)"
   ]
  },
  {
   "cell_type": "code",
   "execution_count": 37,
   "id": "baaaca63-60a1-428c-a76a-5132aeede5ea",
   "metadata": {
    "tags": []
   },
   "outputs": [],
   "source": [
    "# Directory paths\n",
    "DOCS_DIR = \"/Users/sophiehamann/Documents/MA_Universität_Wien/SoSe24/GenAI/chatbot_Vienna/data\"\n",
    "INDEX_DIR = \"/Users/sophiehamann/Documents/MA_Universität_Wien/SoSe24/GenAI/chatbot_Vienna/data/Index/Intro\"\n",
    "PERSIST_DIR = \"/Users/sophiehamann/Documents/MA_Universität_Wien/SoSe24/GenAI/chatbot_Vienna/data/Index/ChatExample\""
   ]
  },
  {
   "cell_type": "code",
   "execution_count": 38,
   "id": "30271336-1c79-41fb-afd9-2cad28530b46",
   "metadata": {
    "tags": []
   },
   "outputs": [],
   "source": [
    "# Ensure the directories exist\n",
    "os.makedirs(DOCS_DIR, exist_ok=True)\n",
    "os.makedirs(INDEX_DIR, exist_ok=True)"
   ]
  },
  {
   "cell_type": "code",
   "execution_count": 39,
   "id": "c761d7ea-2327-42a8-9617-67db2a9e1224",
   "metadata": {
    "tags": []
   },
   "outputs": [],
   "source": [
    "# Load documents\n",
    "pdf_files = [os.path.join(DOCS_DIR, filename) for filename in os.listdir(DOCS_DIR) if filename.endswith('.pdf')]\n",
    "documents = SimpleDirectoryReader(input_files=pdf_files).load_data()"
   ]
  },
  {
   "cell_type": "code",
   "execution_count": 40,
   "id": "5960b457-6f03-488d-ac0a-ac77094fe440",
   "metadata": {
    "tags": []
   },
   "outputs": [],
   "source": [
    "# Create index\n",
    "index = VectorStoreIndex.from_documents(documents, embed_model=embed_model, llm=llm)\n",
    "# Save the index to storage\n",
    "index.storage_context.persist(persist_dir=INDEX_DIR)\n",
    "# Load index from storage if it exists\n",
    "if os.path.exists(INDEX_DIR):\n",
    "    storage_context = StorageContext.from_defaults(persist_dir=INDEX_DIR)\n",
    "    index = load_index_from_storage(storage_context)"
   ]
  },
  {
   "cell_type": "code",
   "execution_count": 41,
   "id": "d870a450-ccda-405b-8ec1-b46db7c26329",
   "metadata": {
    "tags": []
   },
   "outputs": [],
   "source": [
    "# Define query engine\n",
    "query_engine = index.as_query_engine()"
   ]
  },
  {
   "cell_type": "code",
   "execution_count": 42,
   "id": "1bd5cbf4-c10e-4f13-b077-60544d517b0b",
   "metadata": {
    "tags": []
   },
   "outputs": [
    {
     "name": "stdout",
     "output_type": "stream",
     "text": [
      "The document is about the KliP-Wien climate protection program, providing an overview of its basis and approach.\n",
      "The most important point mentioned in the document is the emphasis on strengthening democracy in Europe, with Vienna aiming to lead in implementing democratic values and becoming a best practice for democracy in Europe.\n"
     ]
    }
   ],
   "source": [
    "# Example Queries\n",
    "print(query_engine.query(\"What is the document about?\"))\n",
    "print(query_engine.query(\"What the most important point mentioned in the document?\"))"
   ]
  },
  {
   "cell_type": "code",
   "execution_count": 43,
   "id": "04c10e95-212b-4ea2-92c0-b9d00545e73b",
   "metadata": {
    "tags": []
   },
   "outputs": [],
   "source": [
    "# Prepare the persistent directory\n",
    "if os.path.exists(PERSIST_DIR):\n",
    "    shutil.rmtree(PERSIST_DIR)\n",
    "os.makedirs(PERSIST_DIR)"
   ]
  },
  {
   "cell_type": "code",
   "execution_count": 44,
   "id": "1457d984-0a17-4fe6-9203-ad09165343f8",
   "metadata": {
    "tags": []
   },
   "outputs": [
    {
     "name": "stdout",
     "output_type": "stream",
     "text": [
      "KLiP is a comprehensive program in Vienna that serves as both a climate protection and economic initiative. It aims to reduce greenhouse gas emissions, improve the overall environmental and living conditions in Vienna, enhance Vienna's reputation as an environmental model city, strengthen the city's economy, and create and secure jobs.\n"
     ]
    }
   ],
   "source": [
    "# Define advanced query engine settings\n",
    "query_engine = index.as_query_engine(similarity_top_k=3, retriever_mode=\"embedding\", response_mode=\"compact\", verbose=True)\n",
    "print(query_engine.query(\"What is KLiP?\"))"
   ]
  },
  {
   "cell_type": "code",
   "execution_count": 45,
   "id": "29726bcf-f06a-4452-a074-34538b22867e",
   "metadata": {
    "tags": []
   },
   "outputs": [],
   "source": [
    "# Chat engine setup\n",
    "TEXT_QA_SYSTEM_PROMPT = ChatMessage(\n",
    "    content=(\n",
    "        \"You are an expert Q&A system that is trusted in Vienna.\\n\"\n",
    "        \"Always answer the query using the provided context information, \"\n",
    "        \"and not prior knowledge.\\n\"\n",
    "        \"Some rules to follow:\\n\"\n",
    "        \"1. Never directly reference the given context in your answer.\\n\"\n",
    "        \"2. Avoid statements like 'Based on the context, ...' or \"\n",
    "        \"'The context information ...' or anything along \"\n",
    "        \"those lines.\"\n",
    "    ),\n",
    "    role=MessageRole.SYSTEM,\n",
    ")\n",
    "\n",
    "TEXT_QA_PROMPT_TMPL_MSGS = [\n",
    "    TEXT_QA_SYSTEM_PROMPT,\n",
    "    ChatMessage(\n",
    "        content=(\n",
    "            \"Context information is below.\\n\"\n",
    "            \"---------------------\\n\"\n",
    "            \"{context_str}\\n\"\n",
    "            \"---------------------\\n\"\n",
    "            \"Given the context information and not prior knowledge, \"\n",
    "            \"answer the query.\\n\"\n",
    "            \"Query: {query_str}\\n\"\n",
    "            \"Answer: \"\n",
    "        ),\n",
    "        role=MessageRole.USER,\n",
    "    ),\n",
    "]\n",
    "\n",
    "CHAT_REFINE_PROMPT_TMPL_MSGS = [\n",
    "    ChatMessage(\n",
    "        content=(\n",
    "            \"You are an expert Q&A system that strictly operates in two modes \"\n",
    "            \"when refining existing answers:\\n\"\n",
    "            \"1. **Rewrite** an original answer using the new context.\\n\"\n",
    "            \"2. **Repeat** the original answer if the new context isn't useful.\\n\"\n",
    "            \"Never reference the original answer or context directly in your answer.\\n\"\n",
    "            \"If the query is unrelated to the context, just answer: I don't know. \\n\"\n",
    "            \"When in doubt, just repeat the original answer.\\n\"\n",
    "            \"New Context: {context_msg}\\n\"\n",
    "            \"Query: {query_str}\\n\"\n",
    "            \"Original Answer: {existing_answer}\\n\"\n",
    "            \"New Answer: \"\n",
    "        ),\n",
    "        role=MessageRole.USER,\n",
    "    )\n",
    "]\n",
    "\n",
    "CHAT_TEXT_QA_PROMPT = ChatPromptTemplate(message_templates=TEXT_QA_PROMPT_TMPL_MSGS)\n",
    "CHAT_REFINE_PROMPT = ChatPromptTemplate(message_templates=CHAT_REFINE_PROMPT_TMPL_MSGS)"
   ]
  },
  {
   "cell_type": "code",
   "execution_count": 46,
   "id": "7f3e8a8e-8f60-4a9d-840e-ca28d120ef15",
   "metadata": {},
   "outputs": [
    {
     "name": "stdout",
     "output_type": "stream",
     "text": [
      "===== Entering Chat REPL =====\n",
      "Type \"exit\" to exit.\n",
      "\n"
     ]
    },
    {
     "name": "stdin",
     "output_type": "stream",
     "text": [
      "Human:  Tell me about the goals for Climate Neutrality. \n"
     ]
    },
    {
     "name": "stdout",
     "output_type": "stream",
     "text": [
      "Assistant: The goals for Climate Neutrality in Vienna are ambitious and comprehensive. The city of Vienna aims to achieve climate neutrality by 2040, which means reducing greenhouse gas emissions to zero or near-zero levels. This goal is part of the city's efforts to combat climate change and create a sustainable future for its residents.\n",
      "\n",
      "Some of the key priorities and strategies outlined to achieve climate neutrality in Vienna include:\n",
      "\n",
      "1. Reducing emissions from fossil-fuel-powered vehicles and gas heating systems by transitioning to electric vehicles, promoting alternative modes of transportation, and improving public transportation infrastructure.\n",
      "   \n",
      "2. Transitioning away from gas in heating systems by reducing building energy consumption, switching to district heating systems, and utilizing ambient heat with electric heat pumps.\n",
      "\n",
      "3. Decarbonizing the city's electricity and district heating systems by expanding renewable energy sources in Vienna and Austria. Green gas, which refers to decarbonized gas used for high-efficiency purposes, will be promoted for specific applications, excluding heating and hot water. Vienna does not consider nuclear energy as part of the solution.\n",
      "\n",
      "4. Ensuring that all sectors in Vienna, including waste management and F-gases, reduce their use of fossil fuels and greenhouse gas emissions to zero or near-zero levels to achieve the overall goal of climate neutrality by 2040.\n",
      "\n",
      "These goals reflect Vienna's commitment to sustainable urban development and environmental protection, positioning the city as a leader in climate action and resilience.\n",
      "\n"
     ]
    },
    {
     "name": "stdin",
     "output_type": "stream",
     "text": [
      "Human:  exit\n"
     ]
    }
   ],
   "source": [
    "chat_engine = index.as_chat_engine(chat_mode=\"context\", verbose=True, text_qa_template=CHAT_REFINE_PROMPT)\n",
    "chat_engine.reset()\n",
    "chat_engine.chat_repl()"
   ]
  },
  {
   "cell_type": "code",
   "execution_count": 47,
   "id": "ef7ec887-f445-4c60-9e1a-411c71d4e4e2",
   "metadata": {
    "tags": []
   },
   "outputs": [],
   "source": [
    "# Adding Memory and System Prompt\n",
    "from llama_index.core.memory import ChatMemoryBuffer\n",
    "\n",
    "memory = ChatMemoryBuffer.from_defaults(token_limit=80000)\n",
    "chat_engine = index.as_chat_engine(\n",
    "    chat_mode=\"context\",\n",
    "    memory=memory,\n",
    "    system_prompt=(\n",
    "            \"Context information from multiple sources is below.\\n\"\n",
    "            \"---------------------\\n\"\n",
    "            \"{context_str}\\n\"\n",
    "            \"---------------------\\n\"\n",
    "            \"Given the information from multiple sources\"\n",
    "            \"answer the query.\\n\"\n",
    "            \"If the query is unrelated to the context, just answer: I don't know\"\n",
    "            \"Always start your answer with 'Dear Student'\" \n",
    "            \"Query: {query_str}\\n\"\n",
    "            \"Answer: \"\n",
    "    ),\n",
    ")"
   ]
  },
  {
   "cell_type": "code",
   "execution_count": 48,
   "id": "633a5ac0-da4a-45d6-949d-cc239b9db8dd",
   "metadata": {
    "tags": []
   },
   "outputs": [
    {
     "name": "stdout",
     "output_type": "stream",
     "text": [
      "===== Entering Chat REPL =====\n",
      "Type \"exit\" to exit.\n",
      "\n"
     ]
    },
    {
     "name": "stdin",
     "output_type": "stream",
     "text": [
      "Human:  Is it possible to achieve Climate Neutrality in Vienna until 2040?\n"
     ]
    },
    {
     "name": "stdout",
     "output_type": "stream",
     "text": [
      "Assistant: Dear Student\n",
      "Based on the information provided in the sources, it is indeed possible to achieve climate neutrality in Vienna by 2040. Both the EU directives and the coalition agreement in Vienna emphasize the commitment to becoming climate neutral by 2040. Vienna has already taken significant steps towards this goal, such as implementing fossil-free heating, improving public transportation, promoting renewable energy for vehicles, and increasing green spaces in the city. The city has a comprehensive strategy in place, including the establishment of a Wiener Klimaschutzgesetz (Vienna Climate Protection Law) and a Klimabudget (Climate Budget) to ensure efficient and effective implementation of climate protection measures. Therefore, with the continued dedication and implementation of these initiatives, Vienna is on track to achieve climate neutrality by 2040.\n",
      "\n",
      "\n"
     ]
    },
    {
     "name": "stdin",
     "output_type": "stream",
     "text": [
      "Human:  exit\n"
     ]
    }
   ],
   "source": [
    "chat_engine.chat_repl()"
   ]
  },
  {
   "cell_type": "code",
   "execution_count": 49,
   "id": "6bc4c9ec-11fc-424e-9546-d8eb6d1011ee",
   "metadata": {
    "tags": []
   },
   "outputs": [
    {
     "data": {
      "text/plain": [
       "{'chat_store': {'store': {'chat_history': [{'role': <MessageRole.USER: 'user'>,\n",
       "     'content': 'Is it possible to achieve Climate Neutrality in Vienna until 2040?',\n",
       "     'additional_kwargs': {}},\n",
       "    {'role': <MessageRole.ASSISTANT: 'assistant'>,\n",
       "     'content': 'Dear Student\\nBased on the information provided in the sources, it is indeed possible to achieve climate neutrality in Vienna by 2040. Both the EU directives and the coalition agreement in Vienna emphasize the commitment to becoming climate neutral by 2040. Vienna has already taken significant steps towards this goal, such as implementing fossil-free heating, improving public transportation, promoting renewable energy for vehicles, and increasing green spaces in the city. The city has a comprehensive strategy in place, including the establishment of a Wiener Klimaschutzgesetz (Vienna Climate Protection Law) and a Klimabudget (Climate Budget) to ensure efficient and effective implementation of climate protection measures. Therefore, with the continued dedication and implementation of these initiatives, Vienna is on track to achieve climate neutrality by 2040.\\n',\n",
       "     'additional_kwargs': {}}]},\n",
       "  'class_name': 'SimpleChatStore'},\n",
       " 'chat_store_key': 'chat_history',\n",
       " 'token_limit': 80000,\n",
       " 'class_name': 'ChatMemoryBuffer'}"
      ]
     },
     "execution_count": 49,
     "metadata": {},
     "output_type": "execute_result"
    }
   ],
   "source": [
    "memory.to_dict()"
   ]
  }
 ],
 "metadata": {
  "kernelspec": {
   "display_name": "Python 3 (ipykernel)",
   "language": "python",
   "name": "python3"
  },
  "language_info": {
   "codemirror_mode": {
    "name": "ipython",
    "version": 3
   },
   "file_extension": ".py",
   "mimetype": "text/x-python",
   "name": "python",
   "nbconvert_exporter": "python",
   "pygments_lexer": "ipython3",
   "version": "3.12.4"
  }
 },
 "nbformat": 4,
 "nbformat_minor": 5
}
